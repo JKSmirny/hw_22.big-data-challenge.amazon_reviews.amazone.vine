{
  "nbformat": 4,
  "nbformat_minor": 0,
  "metadata": {
    "colab": {
      "name": "JKS1.ipynb",
      "provenance": [],
      "collapsed_sections": [],
      "authorship_tag": "ABX9TyMkzeBw4YQ8YJPoIGhj4ZVt",
      "include_colab_link": true
    },
    "kernelspec": {
      "name": "python3",
      "display_name": "Python 3"
    },
    "language_info": {
      "name": "python"
    }
  },
  "cells": [
    {
      "cell_type": "markdown",
      "metadata": {
        "id": "view-in-github",
        "colab_type": "text"
      },
      "source": [
        "<a href=\"https://colab.research.google.com/github/JKSmirny/hw_22.big-data-challenge.amazon_reviews.amazone.vine/blob/main/JKS1.ipynb\" target=\"_parent\"><img src=\"https://colab.research.google.com/assets/colab-badge.svg\" alt=\"Open In Colab\"/></a>"
      ]
    },
    {
      "cell_type": "code",
      "source": [
        "import os\n",
        "# Find the latest version of spark 3.0  from http://www.apache.org/dist/spark/ and enter as the spark version\n",
        "# For example:\n",
        "spark_version = 'spark-3.0.3'\n",
        "#spark_version = 'spark-3.<enter version>'\n",
        "os.environ['SPARK_VERSION']=spark_version\n",
        "\n",
        "# Install Spark and Java\n",
        "!apt-get update\n",
        "!apt-get install openjdk-8-jdk-headless -qq > /dev/null\n",
        "!wget -q http://www.apache.org/dist/spark/$SPARK_VERSION/$SPARK_VERSION-bin-hadoop2.7.tgz\n",
        "!tar xf $SPARK_VERSION-bin-hadoop2.7.tgz\n",
        "!pip install -q findspark\n",
        "\n",
        "# Install Spark and Java\n",
        "!apt-get update\n",
        "!apt-get install openjdk-8-jdk-headless -qq > /dev/null\n",
        "!wget -q http://www.apache.org/dist/spark/$SPARK_VERSION/$SPARK_VERSION-bin-hadoop2.7.tgz\n",
        "!tar xf $SPARK_VERSION-bin-hadoop2.7.tgz\n",
        "!pip install -q findspark\n",
        "\n",
        "# Set Environment Variables\n",
        "os.environ[\"JAVA_HOME\"] = \"/usr/lib/jvm/java-8-openjdk-amd64\"\n",
        "os.environ[\"SPARK_HOME\"] = f\"/content/{spark_version}-bin-hadoop2.7\"\n",
        "\n",
        "# Start a SparkSession\n",
        "import findspark\n",
        "findspark.init()"
      ],
      "metadata": {
        "colab": {
          "base_uri": "https://localhost:8080/"
        },
        "id": "e4JwoE1qdlxl",
        "outputId": "9d020869-36ad-4612-9e0e-c16be5a6c4a2"
      },
      "execution_count": 4,
      "outputs": [
        {
          "output_type": "stream",
          "name": "stdout",
          "text": [
            "\r0% [Working]\r            \rHit:1 http://archive.ubuntu.com/ubuntu bionic InRelease\n",
            "\r0% [Waiting for headers] [Connecting to security.ubuntu.com (185.125.190.36)] [\r0% [1 InRelease gpgv 242 kB] [Waiting for headers] [Connecting to security.ubun\r                                                                               \rHit:2 https://developer.download.nvidia.com/compute/cuda/repos/ubuntu1804/x86_64  InRelease\n",
            "\r0% [1 InRelease gpgv 242 kB] [Waiting for headers] [Connecting to security.ubun\r                                                                               \rGet:3 http://archive.ubuntu.com/ubuntu bionic-updates InRelease [88.7 kB]\n",
            "Hit:4 https://cloud.r-project.org/bin/linux/ubuntu bionic-cran40/ InRelease\n",
            "Get:5 http://security.ubuntu.com/ubuntu bionic-security InRelease [88.7 kB]\n",
            "Get:6 http://archive.ubuntu.com/ubuntu bionic-backports InRelease [74.6 kB]\n",
            "Ign:7 https://developer.download.nvidia.com/compute/machine-learning/repos/ubuntu1804/x86_64  InRelease\n",
            "Hit:8 http://ppa.launchpad.net/c2d4u.team/c2d4u4.0+/ubuntu bionic InRelease\n",
            "Hit:9 https://developer.download.nvidia.com/compute/machine-learning/repos/ubuntu1804/x86_64  Release\n",
            "Hit:10 http://ppa.launchpad.net/cran/libgit2/ubuntu bionic InRelease\n",
            "Hit:11 http://ppa.launchpad.net/deadsnakes/ppa/ubuntu bionic InRelease\n",
            "Hit:12 http://ppa.launchpad.net/graphics-drivers/ppa/ubuntu bionic InRelease\n",
            "Fetched 252 kB in 3s (86.9 kB/s)\n",
            "Reading package lists... Done\n",
            "Hit:1 https://developer.download.nvidia.com/compute/cuda/repos/ubuntu1804/x86_64  InRelease\n",
            "Hit:2 http://archive.ubuntu.com/ubuntu bionic InRelease\n",
            "Get:3 http://security.ubuntu.com/ubuntu bionic-security InRelease [88.7 kB]\n",
            "Get:4 http://archive.ubuntu.com/ubuntu bionic-updates InRelease [88.7 kB]\n",
            "Hit:5 https://cloud.r-project.org/bin/linux/ubuntu bionic-cran40/ InRelease\n",
            "Ign:6 https://developer.download.nvidia.com/compute/machine-learning/repos/ubuntu1804/x86_64  InRelease\n",
            "Hit:7 http://ppa.launchpad.net/c2d4u.team/c2d4u4.0+/ubuntu bionic InRelease\n",
            "Get:8 http://archive.ubuntu.com/ubuntu bionic-backports InRelease [74.6 kB]\n",
            "Hit:9 https://developer.download.nvidia.com/compute/machine-learning/repos/ubuntu1804/x86_64  Release\n",
            "Hit:10 http://ppa.launchpad.net/cran/libgit2/ubuntu bionic InRelease\n",
            "Hit:11 http://ppa.launchpad.net/deadsnakes/ppa/ubuntu bionic InRelease\n",
            "Hit:12 http://ppa.launchpad.net/graphics-drivers/ppa/ubuntu bionic InRelease\n",
            "Fetched 252 kB in 3s (86.6 kB/s)\n",
            "Reading package lists... Done\n"
          ]
        }
      ]
    },
    {
      "cell_type": "markdown",
      "source": [
        "# New Section"
      ],
      "metadata": {
        "id": "M66E2pCWYPLw"
      }
    },
    {
      "cell_type": "code",
      "source": [
        "!wget https://jdbc.postgresql.org/download/postgresql-42.2.9.jar"
      ],
      "metadata": {
        "colab": {
          "base_uri": "https://localhost:8080/"
        },
        "id": "SuJxS8KNdzJ0",
        "outputId": "c7003fac-ec56-4f0a-d7a9-fc1d77e07f27"
      },
      "execution_count": 5,
      "outputs": [
        {
          "output_type": "stream",
          "name": "stdout",
          "text": [
            "--2022-05-22 20:00:40--  https://jdbc.postgresql.org/download/postgresql-42.2.9.jar\n",
            "Resolving jdbc.postgresql.org (jdbc.postgresql.org)... 72.32.157.228, 2001:4800:3e1:1::228\n",
            "Connecting to jdbc.postgresql.org (jdbc.postgresql.org)|72.32.157.228|:443... connected.\n",
            "HTTP request sent, awaiting response... 200 OK\n",
            "Length: 914037 (893K) [application/java-archive]\n",
            "Saving to: ‘postgresql-42.2.9.jar.3’\n",
            "\n",
            "postgresql-42.2.9.j 100%[===================>] 892.61K  --.-KB/s    in 0.1s    \n",
            "\n",
            "2022-05-22 20:00:40 (5.93 MB/s) - ‘postgresql-42.2.9.jar.3’ saved [914037/914037]\n",
            "\n"
          ]
        }
      ]
    },
    {
      "cell_type": "code",
      "source": [
        "from pyspark.sql import SparkSession\n",
        "spark = SparkSession.builder.appName(\"ReviewsETL\").config(\"spark.driver.extraClassPath\",\"/content/postgresql-42.2.9.jar\").getOrCreate()"
      ],
      "metadata": {
        "id": "CaJ0220Jd6Bl"
      },
      "execution_count": 6,
      "outputs": []
    },
    {
      "cell_type": "code",
      "source": [
        "from pyspark import SparkFiles\n",
        "# Load in employee.csv from S3 into a DataFrame\n",
        "url = \"https://s3.amazonaws.com/amazon-reviews-pds/tsv/amazon_reviews_multilingual_FR_v1_00.tsv.gz\"\n",
        "spark.sparkContext.addFile(url)\n",
        "\n",
        "df = spark.read.option('header', 'true').csv(SparkFiles.get(\"amazon_reviews_multilingual_FR_v1_00.tsv.gz\"), inferSchema=True, sep='\\t', timestampFormat=\"mm/dd/yy\")\n",
        "df.show(10)"
      ],
      "metadata": {
        "colab": {
          "base_uri": "https://localhost:8080/"
        },
        "id": "blzqe-CzeIgK",
        "outputId": "e5c89e36-5f4e-4cc3-bb74-1b94f433afb7"
      },
      "execution_count": 7,
      "outputs": [
        {
          "output_type": "stream",
          "name": "stdout",
          "text": [
            "+-----------+-----------+--------------+----------+--------------+--------------------+--------------------+-----------+-------------+-----------+----+-----------------+--------------------+--------------------+-----------+\n",
            "|marketplace|customer_id|     review_id|product_id|product_parent|       product_title|    product_category|star_rating|helpful_votes|total_votes|vine|verified_purchase|     review_headline|         review_body|review_date|\n",
            "+-----------+-----------+--------------+----------+--------------+--------------------+--------------------+-----------+-------------+-----------+----+-----------------+--------------------+--------------------+-----------+\n",
            "|         FR|      14952|R32VYUWDIB5LKE|0552774294|     362925721|    The God Delusion|               Books|          5|            0|          0|   N|                Y|a propos de ce livre|je conseille fort...| 2013-02-13|\n",
            "|         FR|      14952|R3CCMP4EV6HAVL|B004GJXQ20|     268067011|A Game of Thrones...|Digital_Ebook_Pur...|          5|            0|          0|   N|                Y|                 wow|ce magnifique est...| 2014-08-03|\n",
            "|         FR|      17564|R14NAE6UGTVTA2|B00GIGGS6A|     256731097|      Huion H610 PRO|                  PC|          3|            1|          3|   N|                Y|      Ca fait le job|Je dirais qu'il a...| 2015-07-07|\n",
            "|         FR|      18940|R2E7QEWSC6EWFA|B00CW7KK9K|     977480037|Withings Pulse - ...|              Sports|          4|            0|          1|   N|                Y|Fidele a description|Je l'ai depuis qu...| 2014-06-16|\n",
            "|         FR|      20315|R26E6I47GQRYKR|B002L6SKIK|     827187473|          Prometheus|           Video DVD|          2|            3|          5|   N|                N|            décevant|je m'attendait à ...| 2013-06-10|\n",
            "|         FR|      20842|R1RJMTSNCKB9LP|B00004YLIU|     678427290|               Kid A|               Music|          2|            0|          0|   N|                Y|                 10'|Ne disait pas sur...| 2013-04-15|\n",
            "|         FR|      20913|R2P2XF84YELQBZ|B00AYHK7RU|     108403123|        The Next Day|               Music|          5|            0|          3|   N|                Y|        the next day|du bon bowie,tr&e...| 2013-06-07|\n",
            "|         FR|      21490| RJKULSX2Y5R07|B00CJ3V5UK|     252503117|G.I. Joe 2 : Cons...|           Video DVD|          5|            0|          0|   N|                Y|       tres bon film|très bon film bea...| 2014-11-07|\n",
            "|         FR|      24196|R3UYE0U7SQCI8Q|B000FUM0TE|      48021829|             Amistad|           Video DVD|          5|            2|          3|   N|                Y|           Excellent|Un sujet délicat ...| 2012-11-16|\n",
            "|         FR|      24196|R1TKJ7XFS3RDEB|B000UMXCTY|     181554537|The Collection (C...|               Music|          5|            0|          1|   N|                Y|       C'est parfait|Un coffret d'un d...| 2013-04-23|\n",
            "+-----------+-----------+--------------+----------+--------------+--------------------+--------------------+-----------+-------------+-----------+----+-----------------+--------------------+--------------------+-----------+\n",
            "only showing top 10 rows\n",
            "\n"
          ]
        }
      ]
    },
    {
      "cell_type": "code",
      "source": [
        "print(df.count())"
      ],
      "metadata": {
        "colab": {
          "base_uri": "https://localhost:8080/"
        },
        "id": "p-qwQMW5ez2I",
        "outputId": "757c329d-6680-4a5a-c395-a1fabc0a3051"
      },
      "execution_count": 8,
      "outputs": [
        {
          "output_type": "stream",
          "name": "stdout",
          "text": [
            "254080\n"
          ]
        }
      ]
    },
    {
      "cell_type": "code",
      "source": [
        "df.printSchema()"
      ],
      "metadata": {
        "colab": {
          "base_uri": "https://localhost:8080/"
        },
        "id": "ATDsY6PyOjgF",
        "outputId": "3fc08339-e249-4224-9faa-db04167eadf4"
      },
      "execution_count": 9,
      "outputs": [
        {
          "output_type": "stream",
          "name": "stdout",
          "text": [
            "root\n",
            " |-- marketplace: string (nullable = true)\n",
            " |-- customer_id: integer (nullable = true)\n",
            " |-- review_id: string (nullable = true)\n",
            " |-- product_id: string (nullable = true)\n",
            " |-- product_parent: integer (nullable = true)\n",
            " |-- product_title: string (nullable = true)\n",
            " |-- product_category: string (nullable = true)\n",
            " |-- star_rating: integer (nullable = true)\n",
            " |-- helpful_votes: integer (nullable = true)\n",
            " |-- total_votes: integer (nullable = true)\n",
            " |-- vine: string (nullable = true)\n",
            " |-- verified_purchase: string (nullable = true)\n",
            " |-- review_headline: string (nullable = true)\n",
            " |-- review_body: string (nullable = true)\n",
            " |-- review_date: string (nullable = true)\n",
            "\n"
          ]
        }
      ]
    },
    {
      "cell_type": "code",
      "source": [
        "products = df.select([\"product_id\", \"product_title\"])\n",
        "products.show(5)"
      ],
      "metadata": {
        "colab": {
          "base_uri": "https://localhost:8080/"
        },
        "id": "4MKcD-JAfndL",
        "outputId": "62bbd6d5-aae9-49c9-9449-35ae48410114"
      },
      "execution_count": 10,
      "outputs": [
        {
          "output_type": "stream",
          "name": "stdout",
          "text": [
            "+----------+--------------------+\n",
            "|product_id|       product_title|\n",
            "+----------+--------------------+\n",
            "|0552774294|    The God Delusion|\n",
            "|B004GJXQ20|A Game of Thrones...|\n",
            "|B00GIGGS6A|      Huion H610 PRO|\n",
            "|B00CW7KK9K|Withings Pulse - ...|\n",
            "|B002L6SKIK|          Prometheus|\n",
            "+----------+--------------------+\n",
            "only showing top 5 rows\n",
            "\n"
          ]
        }
      ]
    },
    {
      "cell_type": "code",
      "source": [
        "print(products.count())"
      ],
      "metadata": {
        "colab": {
          "base_uri": "https://localhost:8080/"
        },
        "id": "lSK6obdKgz2m",
        "outputId": "6371346b-b351-4b82-cadf-18a78a23e014"
      },
      "execution_count": 11,
      "outputs": [
        {
          "output_type": "stream",
          "name": "stdout",
          "text": [
            "254080\n"
          ]
        }
      ]
    },
    {
      "cell_type": "code",
      "source": [
        "products = products.dropDuplicates()\n",
        "print(products.count())"
      ],
      "metadata": {
        "colab": {
          "base_uri": "https://localhost:8080/"
        },
        "id": "v6X9CYrPhF1i",
        "outputId": "9dff6dd2-816b-475c-deaf-83dc1e2fc95d"
      },
      "execution_count": 12,
      "outputs": [
        {
          "output_type": "stream",
          "name": "stdout",
          "text": [
            "35451\n"
          ]
        }
      ]
    },
    {
      "cell_type": "code",
      "source": [
        "products.printSchema()"
      ],
      "metadata": {
        "colab": {
          "base_uri": "https://localhost:8080/"
        },
        "id": "z1ss1EVTEcDm",
        "outputId": "bcb82a10-982d-417c-8e4c-892d091b1197"
      },
      "execution_count": 13,
      "outputs": [
        {
          "output_type": "stream",
          "name": "stdout",
          "text": [
            "root\n",
            " |-- product_id: string (nullable = true)\n",
            " |-- product_title: string (nullable = true)\n",
            "\n"
          ]
        }
      ]
    },
    {
      "cell_type": "code",
      "source": [
        "#df_custdata = df.groupby(\"customer_id\").agg({\"customer_id\":\"count\"})\n",
        "customers_df = df.groupby(\"customer_id\").count()\n",
        "customers = customers_df.withColumnRenamed(\"count\", \"customer_count\")\n",
        "customers.show()"
      ],
      "metadata": {
        "colab": {
          "base_uri": "https://localhost:8080/"
        },
        "id": "Rfbm3S34h9bg",
        "outputId": "5727bb8c-daec-4755-8e7c-7c0b8ad4f93d"
      },
      "execution_count": 14,
      "outputs": [
        {
          "output_type": "stream",
          "name": "stdout",
          "text": [
            "+-----------+--------------+\n",
            "|customer_id|customer_count|\n",
            "+-----------+--------------+\n",
            "|      26425|             1|\n",
            "|      29814|             1|\n",
            "|      78440|             2|\n",
            "|      90550|             1|\n",
            "|      99817|             1|\n",
            "|    2846240|             1|\n",
            "|    2966808|             1|\n",
            "|    3323007|             1|\n",
            "|    3458442|             1|\n",
            "|    3497479|             1|\n",
            "|    3498767|             1|\n",
            "|    3511947|             1|\n",
            "|    3945593|             1|\n",
            "|    4049807|             1|\n",
            "|    4214333|             1|\n",
            "|    4262489|             2|\n",
            "|    4423902|             1|\n",
            "|    4660180|             2|\n",
            "|    4667529|             3|\n",
            "|    4838481|             2|\n",
            "+-----------+--------------+\n",
            "only showing top 20 rows\n",
            "\n"
          ]
        }
      ]
    },
    {
      "cell_type": "code",
      "source": [
        "print(customers.count())"
      ],
      "metadata": {
        "colab": {
          "base_uri": "https://localhost:8080/"
        },
        "id": "0LWwfGa8D-rD",
        "outputId": "e011e420-93e7-4eba-bf0b-a7cf3cd73e1f"
      },
      "execution_count": 15,
      "outputs": [
        {
          "output_type": "stream",
          "name": "stdout",
          "text": [
            "131386\n"
          ]
        }
      ]
    },
    {
      "cell_type": "code",
      "source": [
        "customers.printSchema()"
      ],
      "metadata": {
        "colab": {
          "base_uri": "https://localhost:8080/"
        },
        "id": "KToVmEX6D4mk",
        "outputId": "d2361f63-43d9-48bc-d6b2-938eb73a5631"
      },
      "execution_count": 16,
      "outputs": [
        {
          "output_type": "stream",
          "name": "stdout",
          "text": [
            "root\n",
            " |-- customer_id: integer (nullable = true)\n",
            " |-- customer_count: long (nullable = false)\n",
            "\n"
          ]
        }
      ]
    },
    {
      "cell_type": "code",
      "source": [
        "review_id_table = df.select([\"review_id\", \"customer_id\", \"product_id\", \"product_parent\", \"review_date\"])\n",
        "review_id_table.show()"
      ],
      "metadata": {
        "colab": {
          "base_uri": "https://localhost:8080/"
        },
        "id": "40pgkfm6haTZ",
        "outputId": "c1416c31-bbe2-4643-b82f-8dc07b4617a9"
      },
      "execution_count": 17,
      "outputs": [
        {
          "output_type": "stream",
          "name": "stdout",
          "text": [
            "+--------------+-----------+----------+--------------+-----------+\n",
            "|     review_id|customer_id|product_id|product_parent|review_date|\n",
            "+--------------+-----------+----------+--------------+-----------+\n",
            "|R32VYUWDIB5LKE|      14952|0552774294|     362925721| 2013-02-13|\n",
            "|R3CCMP4EV6HAVL|      14952|B004GJXQ20|     268067011| 2014-08-03|\n",
            "|R14NAE6UGTVTA2|      17564|B00GIGGS6A|     256731097| 2015-07-07|\n",
            "|R2E7QEWSC6EWFA|      18940|B00CW7KK9K|     977480037| 2014-06-16|\n",
            "|R26E6I47GQRYKR|      20315|B002L6SKIK|     827187473| 2013-06-10|\n",
            "|R1RJMTSNCKB9LP|      20842|B00004YLIU|     678427290| 2013-04-15|\n",
            "|R2P2XF84YELQBZ|      20913|B00AYHK7RU|     108403123| 2013-06-07|\n",
            "| RJKULSX2Y5R07|      21490|B00CJ3V5UK|     252503117| 2014-11-07|\n",
            "|R3UYE0U7SQCI8Q|      24196|B000FUM0TE|      48021829| 2012-11-16|\n",
            "|R1TKJ7XFS3RDEB|      24196|B000UMXCTY|     181554537| 2013-04-23|\n",
            "|R3S9JNS21QDBXP|      24196|B0044JV1K6|     386772628| 2013-08-02|\n",
            "|R2Y4O06QMOGHD0|      24196|2226249672|     753674225| 2013-10-03|\n",
            "|R3PS3P7G1ZT57W|      24196|B000A3IF8G|     757843869| 2014-08-21|\n",
            "|R1NFWFM2WWRWPM|      24207|B00B4VI8MQ|     351620851| 2014-01-31|\n",
            "|R3QRIH5CXCXMEL|      24207|B00CW6DAKC|      87169065| 2014-07-29|\n",
            "| RBCSM1KTYH6FX|      24629|B0031ES8P6|     724566333| 2014-01-13|\n",
            "|R2BIWHFIS7X808|      24844|B007AR7OGE|     414300413| 2012-12-17|\n",
            "|R2VGNSD09UEW5T|      25935|B00XO12REY|     271191040| 2015-07-21|\n",
            "| RTGC85CCO9EMU|      26425|B007ZMHBBM|     893659638| 2012-11-22|\n",
            "|R128Q27ZKTLGJ1|      26552|0446310786|     994527755| 2015-01-19|\n",
            "+--------------+-----------+----------+--------------+-----------+\n",
            "only showing top 20 rows\n",
            "\n"
          ]
        }
      ]
    },
    {
      "cell_type": "code",
      "source": [
        "print(review_id_table.count())"
      ],
      "metadata": {
        "colab": {
          "base_uri": "https://localhost:8080/"
        },
        "id": "X7F5v0MXkv7b",
        "outputId": "63a4869d-0cba-47cf-f9b1-4d7d000a05ee"
      },
      "execution_count": 18,
      "outputs": [
        {
          "output_type": "stream",
          "name": "stdout",
          "text": [
            "254080\n"
          ]
        }
      ]
    },
    {
      "cell_type": "code",
      "source": [
        "review_id_table.printSchema()"
      ],
      "metadata": {
        "colab": {
          "base_uri": "https://localhost:8080/"
        },
        "id": "6dZILPMRDwxe",
        "outputId": "a23add56-e6f7-4407-cbdd-0fd74e474277"
      },
      "execution_count": 19,
      "outputs": [
        {
          "output_type": "stream",
          "name": "stdout",
          "text": [
            "root\n",
            " |-- review_id: string (nullable = true)\n",
            " |-- customer_id: integer (nullable = true)\n",
            " |-- product_id: string (nullable = true)\n",
            " |-- product_parent: integer (nullable = true)\n",
            " |-- review_date: string (nullable = true)\n",
            "\n"
          ]
        }
      ]
    },
    {
      "cell_type": "code",
      "source": [
        "from pyspark.sql.functions import col\n",
        "from pyspark.sql.types import IntegerType, StringType,BooleanType,DateType\n",
        "df2 = df.withColumn(\"review_id\",col(\"review_id\").cast(StringType())) \\\n",
        "    .withColumn(\"customer_id\",col(\"customer_id\").cast(IntegerType())) \\\n",
        "    .withColumn(\"product_id\",col(\"product_id\").cast(StringType())) \\\n",
        "    .withColumn(\"product_parent\",col(\"product_parent\").cast(IntegerType())) \\\n",
        "    .withColumn(\"review_date\",col(\"review_date\").cast(DateType()))\n",
        "df2.printSchema()"
      ],
      "metadata": {
        "colab": {
          "base_uri": "https://localhost:8080/"
        },
        "id": "2GsUxE3dfOG5",
        "outputId": "b6f32884-7c32-4a61-ea3e-f183f78c1383"
      },
      "execution_count": 37,
      "outputs": [
        {
          "output_type": "stream",
          "name": "stdout",
          "text": [
            "root\n",
            " |-- marketplace: string (nullable = true)\n",
            " |-- customer_id: integer (nullable = true)\n",
            " |-- review_id: string (nullable = true)\n",
            " |-- product_id: string (nullable = true)\n",
            " |-- product_parent: integer (nullable = true)\n",
            " |-- product_title: string (nullable = true)\n",
            " |-- product_category: string (nullable = true)\n",
            " |-- star_rating: integer (nullable = true)\n",
            " |-- helpful_votes: integer (nullable = true)\n",
            " |-- total_votes: integer (nullable = true)\n",
            " |-- vine: string (nullable = true)\n",
            " |-- verified_purchase: string (nullable = true)\n",
            " |-- review_headline: string (nullable = true)\n",
            " |-- review_body: string (nullable = true)\n",
            " |-- review_date: date (nullable = true)\n",
            "\n"
          ]
        }
      ]
    },
    {
      "cell_type": "code",
      "source": [
        "review_id_table = df2.select([\"review_id\", \"customer_id\", \"product_id\", \"product_parent\", \"review_date\"])\n",
        "review_id_table.show()"
      ],
      "metadata": {
        "colab": {
          "base_uri": "https://localhost:8080/"
        },
        "id": "GgeAfPFEgkl7",
        "outputId": "974e7b54-50f5-40a3-d705-c58947cd0298"
      },
      "execution_count": 38,
      "outputs": [
        {
          "output_type": "stream",
          "name": "stdout",
          "text": [
            "+--------------+-----------+----------+--------------+-----------+\n",
            "|     review_id|customer_id|product_id|product_parent|review_date|\n",
            "+--------------+-----------+----------+--------------+-----------+\n",
            "|R32VYUWDIB5LKE|      14952|0552774294|     362925721| 2013-02-13|\n",
            "|R3CCMP4EV6HAVL|      14952|B004GJXQ20|     268067011| 2014-08-03|\n",
            "|R14NAE6UGTVTA2|      17564|B00GIGGS6A|     256731097| 2015-07-07|\n",
            "|R2E7QEWSC6EWFA|      18940|B00CW7KK9K|     977480037| 2014-06-16|\n",
            "|R26E6I47GQRYKR|      20315|B002L6SKIK|     827187473| 2013-06-10|\n",
            "|R1RJMTSNCKB9LP|      20842|B00004YLIU|     678427290| 2013-04-15|\n",
            "|R2P2XF84YELQBZ|      20913|B00AYHK7RU|     108403123| 2013-06-07|\n",
            "| RJKULSX2Y5R07|      21490|B00CJ3V5UK|     252503117| 2014-11-07|\n",
            "|R3UYE0U7SQCI8Q|      24196|B000FUM0TE|      48021829| 2012-11-16|\n",
            "|R1TKJ7XFS3RDEB|      24196|B000UMXCTY|     181554537| 2013-04-23|\n",
            "|R3S9JNS21QDBXP|      24196|B0044JV1K6|     386772628| 2013-08-02|\n",
            "|R2Y4O06QMOGHD0|      24196|2226249672|     753674225| 2013-10-03|\n",
            "|R3PS3P7G1ZT57W|      24196|B000A3IF8G|     757843869| 2014-08-21|\n",
            "|R1NFWFM2WWRWPM|      24207|B00B4VI8MQ|     351620851| 2014-01-31|\n",
            "|R3QRIH5CXCXMEL|      24207|B00CW6DAKC|      87169065| 2014-07-29|\n",
            "| RBCSM1KTYH6FX|      24629|B0031ES8P6|     724566333| 2014-01-13|\n",
            "|R2BIWHFIS7X808|      24844|B007AR7OGE|     414300413| 2012-12-17|\n",
            "|R2VGNSD09UEW5T|      25935|B00XO12REY|     271191040| 2015-07-21|\n",
            "| RTGC85CCO9EMU|      26425|B007ZMHBBM|     893659638| 2012-11-22|\n",
            "|R128Q27ZKTLGJ1|      26552|0446310786|     994527755| 2015-01-19|\n",
            "+--------------+-----------+----------+--------------+-----------+\n",
            "only showing top 20 rows\n",
            "\n"
          ]
        }
      ]
    },
    {
      "cell_type": "code",
      "source": [
        "print(review_id_table.count())"
      ],
      "metadata": {
        "colab": {
          "base_uri": "https://localhost:8080/"
        },
        "id": "NZS2CztTgwY0",
        "outputId": "d09f8e25-8446-4595-82a0-0a6ae7703ef2"
      },
      "execution_count": 40,
      "outputs": [
        {
          "output_type": "stream",
          "name": "stdout",
          "text": [
            "254080\n"
          ]
        }
      ]
    },
    {
      "cell_type": "code",
      "source": [
        "review_id_table.printSchema()"
      ],
      "metadata": {
        "colab": {
          "base_uri": "https://localhost:8080/"
        },
        "id": "ic2KPeV2T9b6",
        "outputId": "1c32fa46-3a8e-4c8c-d01a-75c50281346b"
      },
      "execution_count": 39,
      "outputs": [
        {
          "output_type": "stream",
          "name": "stdout",
          "text": [
            "root\n",
            " |-- review_id: string (nullable = true)\n",
            " |-- customer_id: integer (nullable = true)\n",
            " |-- product_id: string (nullable = true)\n",
            " |-- product_parent: integer (nullable = true)\n",
            " |-- review_date: date (nullable = true)\n",
            "\n"
          ]
        }
      ]
    },
    {
      "cell_type": "code",
      "source": [
        "vine_table = df.select([\"review_id\", \"star_rating\", \"helpful_votes\", \"total_votes\", \"vine\"])\n",
        "vine_table.show(5)"
      ],
      "metadata": {
        "colab": {
          "base_uri": "https://localhost:8080/"
        },
        "id": "CWtD78julG8M",
        "outputId": "ddb15c21-43d6-4577-ecc7-a15f7c6cc19c"
      },
      "execution_count": 21,
      "outputs": [
        {
          "output_type": "stream",
          "name": "stdout",
          "text": [
            "+--------------+-----------+-------------+-----------+----+\n",
            "|     review_id|star_rating|helpful_votes|total_votes|vine|\n",
            "+--------------+-----------+-------------+-----------+----+\n",
            "|R32VYUWDIB5LKE|          5|            0|          0|   N|\n",
            "|R3CCMP4EV6HAVL|          5|            0|          0|   N|\n",
            "|R14NAE6UGTVTA2|          3|            1|          3|   N|\n",
            "|R2E7QEWSC6EWFA|          4|            0|          1|   N|\n",
            "|R26E6I47GQRYKR|          2|            3|          5|   N|\n",
            "+--------------+-----------+-------------+-----------+----+\n",
            "only showing top 5 rows\n",
            "\n"
          ]
        }
      ]
    },
    {
      "cell_type": "code",
      "source": [
        "print(vine_table.count())"
      ],
      "metadata": {
        "colab": {
          "base_uri": "https://localhost:8080/"
        },
        "id": "CfaTG5nEAGbb",
        "outputId": "45e51c33-0942-473a-eda4-9e1ef0570d24"
      },
      "execution_count": 22,
      "outputs": [
        {
          "output_type": "stream",
          "name": "stdout",
          "text": [
            "254080\n"
          ]
        }
      ]
    },
    {
      "cell_type": "code",
      "source": [
        "vine_table.printSchema()"
      ],
      "metadata": {
        "colab": {
          "base_uri": "https://localhost:8080/"
        },
        "id": "EToeqT5IDsMG",
        "outputId": "011a2270-5b93-4cf0-dcd2-a248a2780d2a"
      },
      "execution_count": 23,
      "outputs": [
        {
          "output_type": "stream",
          "name": "stdout",
          "text": [
            "root\n",
            " |-- review_id: string (nullable = true)\n",
            " |-- star_rating: integer (nullable = true)\n",
            " |-- helpful_votes: integer (nullable = true)\n",
            " |-- total_votes: integer (nullable = true)\n",
            " |-- vine: string (nullable = true)\n",
            "\n"
          ]
        }
      ]
    },
    {
      "cell_type": "code",
      "source": [
        "# Configuration for RDS instance\n",
        "mode=\"append\"\n",
        "jdbc_url = \"jdbc:postgresql://reviews-frtv.crql9pfluf9x.us-east-1.rds.amazonaws.com:5432/reviews-frtv\"\n",
        "config = {\"user\":\"root\",\n",
        "          \"password\": \"Ben&LizzyA22\",\n",
        "          \"driver\":\"org.postgresql.Driver\"}"
      ],
      "metadata": {
        "id": "Ct64qWqIx2XK"
      },
      "execution_count": 24,
      "outputs": []
    },
    {
      "cell_type": "code",
      "source": [
        "# Write DataFrame to products table in RDS\n",
        "products.write.jdbc(url=jdbc_url, table='products', mode=mode, properties=config)\n",
        "config = {\"user\":\"root\",\n",
        "          \"password\": \"Ben&LizzyA22\",\n",
        "          \"driver\":\"org.postgresql.Driver\"}"
      ],
      "metadata": {
        "id": "qsr9BSYVGRlA"
      },
      "execution_count": 25,
      "outputs": []
    },
    {
      "cell_type": "code",
      "source": [
        "# Write DataFrame to customers table in RDS\n",
        "customers.write.jdbc(url=jdbc_url, table='customers', mode=mode, properties=config)\n",
        "config = {\"user\":\"root\",\n",
        "          \"password\": \"Ben&LizzyA22\",\n",
        "          \"driver\":\"org.postgresql.Driver\"}"
      ],
      "metadata": {
        "id": "oVY2isxFGy83"
      },
      "execution_count": 26,
      "outputs": []
    },
    {
      "cell_type": "code",
      "source": [
        "# Write DataFrame to vine_table table in RDS\n",
        "vine_table.write.jdbc(url=jdbc_url, table='vine_table', mode=mode, properties=config)\n",
        "config = {\"user\":\"root\",\n",
        "          \"password\": \"Ben&LizzyA22\",\n",
        "          \"driver\":\"org.postgresql.Driver\"}"
      ],
      "metadata": {
        "id": "wLbhH7ROHWW0"
      },
      "execution_count": 27,
      "outputs": []
    },
    {
      "cell_type": "code",
      "source": [
        "# Write DataFrame to review_id_table table in RDS\n",
        "review_id_table.write.jdbc(url=jdbc_url, table='review_id_table', mode=mode, properties=config)\n",
        "config = {\"user\":\"root\",\n",
        "          \"password\": \"Ben&LizzyA22\",\n",
        "          \"driver\":\"org.postgresql.Driver\"}"
      ],
      "metadata": {
        "id": "usG6skvmFcJ8"
      },
      "execution_count": 41,
      "outputs": []
    },
    {
      "cell_type": "markdown",
      "source": [
        ""
      ],
      "metadata": {
        "id": "5ld4h28fdG74"
      }
    }
  ]
}